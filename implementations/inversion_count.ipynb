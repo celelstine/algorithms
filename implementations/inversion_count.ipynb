{
 "cells": [
  {
   "cell_type": "markdown",
   "id": "e6750fd7",
   "metadata": {},
   "source": [
    "## Inversion Count\n",
    "\n",
    "given a list of numbers, find the number of linear switch that you need to make to make it sorted\n",
    "\n",
    "sample: [5, 1, 3,6,2]\n",
    "\n",
    "has the following inversion\n",
    "(5,1) 1,5,3,6,2\n",
    "(5,3) 1,3,5,6,2\n",
    "(5,2) 1,3,2,5,6\n",
    "(3,2) 1,2,3,5,6\n",
    "\n",
    "4 inversions"
   ]
  },
  {
   "cell_type": "code",
   "execution_count": 1,
   "id": "eb394e30",
   "metadata": {},
   "outputs": [
    {
     "data": {
      "text/plain": [
       "(6, [1, 2, 4, 1, 2, 8])"
      ]
     },
     "execution_count": 1,
     "metadata": {},
     "output_type": "execute_result"
    }
   ],
   "source": [
    "def inversion_count(numbers):\n",
    "    n = len(numbers)\n",
    "    \n",
    "    if n == 2:\n",
    "            return (1, [numbers[1], numbers[0]]) if numbers[0] > numbers[1] else (0, numbers)\n",
    "    if n == 1:\n",
    "        return (0, numbers)\n",
    "    \n",
    "    mid = n//2\n",
    "    \n",
    "    left_halve = numbers[:mid]\n",
    "    right_halve = numbers[mid:]\n",
    "    \n",
    "    left_solution = inversion_count(left_halve)\n",
    "    right_solution = inversion_count(right_halve)\n",
    "    \n",
    "\n",
    "    \n",
    "    def inversion_count_split(left_solution, right_solution):\n",
    "        num_inversion_left, left_sorted_list = left_solution\n",
    "        num_inversion_right, right_sorted_list = right_solution\n",
    "        total_inversion = num_inversion_left + num_inversion_right\n",
    "        sorted_combo = []\n",
    "        \n",
    "        right_index = 0\n",
    "\n",
    "        for num in left_sorted_list:\n",
    "            for num1 in right_sorted_list: # longer version 'num1 in right_sorted_list'\n",
    "                if num > num1:\n",
    "                    sorted_combo.append(num1)\n",
    "                    total_inversion = total_inversion + 1\n",
    "                    right_index = right_index + 1\n",
    "                else:\n",
    "                    break\n",
    "            sorted_combo.append(num)\n",
    "\n",
    "        sorted_combo.extend(right_sorted_list[right_index:])\n",
    "        \n",
    "        return total_inversion, sorted_combo\n",
    "    \n",
    "    return inversion_count_split(left_solution, right_solution)\n",
    " \n",
    "inversion_count([3,1,2])\n",
    "\n",
    "inversion_count([8, 4, 2, 1])"
   ]
  }
 ],
 "metadata": {
  "kernelspec": {
   "display_name": "Python 3 (ipykernel)",
   "language": "python",
   "name": "python3"
  },
  "language_info": {
   "codemirror_mode": {
    "name": "ipython",
    "version": 3
   },
   "file_extension": ".py",
   "mimetype": "text/x-python",
   "name": "python",
   "nbconvert_exporter": "python",
   "pygments_lexer": "ipython3",
   "version": "3.9.6"
  }
 },
 "nbformat": 4,
 "nbformat_minor": 5
}
