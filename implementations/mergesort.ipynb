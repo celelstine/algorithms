{
 "cells": [
  {
   "cell_type": "markdown",
   "id": "a87aaf84",
   "metadata": {},
   "source": [
    "### Merge sort\n",
    "\n",
    "this algorithm uses the divide and conquer principles to divide a sorting problem into small bit and at the end merge them\n"
   ]
  },
  {
   "cell_type": "code",
   "execution_count": 36,
   "id": "424167c5",
   "metadata": {},
   "outputs": [
    {
     "name": "stdout",
     "output_type": "stream",
     "text": [
      "[27] [43] [27, 43]\n",
      "[38] [27, 43] [27, 38, 43]\n",
      "[3] [9] [3, 9]\n",
      "[82] [10] [10, 82]\n",
      "[3, 9] [10, 82] [3, 9, 10, 82]\n",
      "[27, 38, 43] [3, 9, 10, 82] [3, 9, 10, 27, 38, 43, 82]\n"
     ]
    }
   ],
   "source": [
    "def mergesort(lst):\n",
    "    len_lst = len(lst)\n",
    "    \n",
    "    # base step is when we have a single number\n",
    "    if len_lst == 1:\n",
    "        return lst\n",
    "\n",
    "    # loop: we make a recursice call with the elements in current list splitted into two\n",
    "    mid = len_lst // 2\n",
    "    left = lst[:mid]\n",
    "    right = lst[mid:]\n",
    "    left_sort = mergesort(left)\n",
    "    right_sort = mergesort(right)\n",
    "    \n",
    "    # finally we merge the two halves\n",
    "    def merge(lst1, lst2):\n",
    "        lst1_i = 0\n",
    "        lst2_i = 0\n",
    "        len_lst1 = len(lst1)\n",
    "        len_lst2 = len(lst2)\n",
    "        result = []\n",
    "        \n",
    "        while lst1_i < len_lst1 or lst2_i < len_lst2:\n",
    "            if lst1_i >= len_lst1:\n",
    "                result.append(lst2[lst2_i])\n",
    "                lst2_i = lst2_i + 1\n",
    "            elif lst2_i >= len_lst2:\n",
    "                result.append(lst1[lst1_i])\n",
    "                lst1_i = lst1_i + 1\n",
    "            elif lst1[lst1_i] <= lst2[lst2_i]:\n",
    "                result.append(lst1[lst1_i])\n",
    "                lst1_i = lst1_i + 1\n",
    "            else:\n",
    "                result.append(lst2[lst2_i])\n",
    "                lst2_i = lst2_i + 1\n",
    "        print(lst1, lst2, result)\n",
    "        return result\n",
    "            \n",
    "    return merge(left_sort, right_sort)\n",
    "\n",
    "# assesrtion\n",
    "input = [38, 27, 43, 3, 9, 82, 10]\n",
    "ouput = [3, 9, 10, 27, 38, 43, 82]\n",
    "assert mergesort(input) == ouput"
   ]
  },
  {
   "cell_type": "code",
   "execution_count": 1,
   "id": "9aa7a783",
   "metadata": {},
   "outputs": [
    {
     "name": "stdout",
     "output_type": "stream",
     "text": [
      "Inversion count is 2407905288\n"
     ]
    }
   ],
   "source": [
    "\n",
    "# Merge two sorted sublists `A[low … mid]` and `A[mid+1 … high]`\n",
    "def merge(A, aux, low, mid, high):\n",
    " \n",
    "    k = i = low\n",
    "    j = mid + 1\n",
    "    inversionCount = 0\n",
    " \n",
    "    # while there are elements in the left and right runs\n",
    "    while i <= mid and j <= high:\n",
    "        if A[i] <= A[j]:\n",
    "            aux[k] = A[i]\n",
    "            i = i + 1\n",
    "        else:\n",
    "            aux[k] = A[j]\n",
    "            j = j + 1\n",
    "            inversionCount += (mid - i + 1)        # NOTE\n",
    " \n",
    "        k = k + 1\n",
    " \n",
    "    # copy remaining elements\n",
    "    while i <= mid:\n",
    "        aux[k] = A[i]\n",
    "        k = k + 1\n",
    "        i = i + 1\n",
    " \n",
    "    ''' no need to copy the second half (since the remaining items\n",
    "        are already in their correct position in the temporary array) '''\n",
    " \n",
    "    # copy back to the original list to reflect sorted order\n",
    "    for i in range(low, high + 1):\n",
    "        A[i] = aux[i]\n",
    " \n",
    "    return inversionCount\n",
    " \n",
    " \n",
    "# Sort list `A[low…high]` using auxiliary list `aux`\n",
    "def mergesort(A, aux, low, high):\n",
    " \n",
    "    # base case\n",
    "    if high <= low:        # if run size <= 1\n",
    "        return 0\n",
    " \n",
    "    # find midpoint\n",
    "    mid = low + ((high - low) >> 1)\n",
    "    inversionCount = 0\n",
    " \n",
    "    # recursively split runs into two halves until run size <= 1,\n",
    "    # then merges them and return up the call chain\n",
    " \n",
    "    inversionCount += mergesort(A, aux, low, mid)       # split/merge left half\n",
    "    inversionCount += mergesort(A, aux, mid + 1, high)  # split/merge right half\n",
    "    inversionCount += merge(A, aux, low, mid, high)     # merge the two half runs\n",
    " \n",
    "    return inversionCount\n",
    " \n",
    " \n",
    "numbers = []\n",
    "with open('../data/numbers.txt', 'r') as file:\n",
    "    line = file.readline()\n",
    "    while line:\n",
    "        numbers.append(int(line))\n",
    "        line = file.readline()\n",
    " \n",
    "A = numbers\n",
    "aux = numbers.copy()\n",
    "\n",
    "# get the inversion count by performing merge sort on a list\n",
    "print(\"Inversion count is\", mergesort(numbers, aux, 0, len(numbers) - 1))"
   ]
  },
  {
   "cell_type": "code",
   "execution_count": null,
   "id": "7fd5648a",
   "metadata": {},
   "outputs": [],
   "source": []
  }
 ],
 "metadata": {
  "kernelspec": {
   "display_name": "Python 3 (ipykernel)",
   "language": "python",
   "name": "python3"
  },
  "language_info": {
   "codemirror_mode": {
    "name": "ipython",
    "version": 3
   },
   "file_extension": ".py",
   "mimetype": "text/x-python",
   "name": "python",
   "nbconvert_exporter": "python",
   "pygments_lexer": "ipython3",
   "version": "3.9.6"
  }
 },
 "nbformat": 4,
 "nbformat_minor": 5
}
