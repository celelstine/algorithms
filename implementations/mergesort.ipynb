{
 "cells": [
  {
   "cell_type": "markdown",
   "id": "a87aaf84",
   "metadata": {},
   "source": [
    "### Merge sort\n",
    "\n",
    "this algorithm uses the divide and conquer principles to divide a sorting problem into small bit and at the end merge them\n"
   ]
  },
  {
   "cell_type": "code",
   "execution_count": 36,
   "id": "424167c5",
   "metadata": {},
   "outputs": [
    {
     "name": "stdout",
     "output_type": "stream",
     "text": [
      "[27] [43] [27, 43]\n",
      "[38] [27, 43] [27, 38, 43]\n",
      "[3] [9] [3, 9]\n",
      "[82] [10] [10, 82]\n",
      "[3, 9] [10, 82] [3, 9, 10, 82]\n",
      "[27, 38, 43] [3, 9, 10, 82] [3, 9, 10, 27, 38, 43, 82]\n"
     ]
    }
   ],
   "source": [
    "def mergesort(lst):\n",
    "    len_lst = len(lst)\n",
    "    \n",
    "    # base step is when we have a single number\n",
    "    if len_lst == 1:\n",
    "        return lst\n",
    "\n",
    "    # loop: we make a recursice call with the elements in current list splitted into two\n",
    "    mid = len_lst // 2\n",
    "    left = lst[:mid]\n",
    "    right = lst[mid:]\n",
    "    left_sort = mergesort(left)\n",
    "    right_sort = mergesort(right)\n",
    "    \n",
    "    # finally we merge the two halves\n",
    "    def merge(lst1, lst2):\n",
    "        lst1_i = 0\n",
    "        lst2_i = 0\n",
    "        len_lst1 = len(lst1)\n",
    "        len_lst2 = len(lst2)\n",
    "        result = []\n",
    "        \n",
    "        while lst1_i < len_lst1 or lst2_i < len_lst2:\n",
    "            if lst1_i >= len_lst1:\n",
    "                result.append(lst2[lst2_i])\n",
    "                lst2_i = lst2_i + 1\n",
    "            elif lst2_i >= len_lst2:\n",
    "                result.append(lst1[lst1_i])\n",
    "                lst1_i = lst1_i + 1\n",
    "            elif lst1[lst1_i] <= lst2[lst2_i]:\n",
    "                result.append(lst1[lst1_i])\n",
    "                lst1_i = lst1_i + 1\n",
    "            else:\n",
    "                result.append(lst2[lst2_i])\n",
    "                lst2_i = lst2_i + 1\n",
    "        print(lst1, lst2, result)\n",
    "        return result\n",
    "            \n",
    "    return merge(left_sort, right_sort)\n",
    "\n",
    "# assesrtion\n",
    "input = [38, 27, 43, 3, 9, 82, 10]\n",
    "ouput = [3, 9, 10, 27, 38, 43, 82]\n",
    "assert mergesort(input) == ouput"
   ]
  }
 ],
 "metadata": {
  "kernelspec": {
   "display_name": "Python 3 (ipykernel)",
   "language": "python",
   "name": "python3"
  },
  "language_info": {
   "codemirror_mode": {
    "name": "ipython",
    "version": 3
   },
   "file_extension": ".py",
   "mimetype": "text/x-python",
   "name": "python",
   "nbconvert_exporter": "python",
   "pygments_lexer": "ipython3",
   "version": "3.9.6"
  }
 },
 "nbformat": 4,
 "nbformat_minor": 5
}
