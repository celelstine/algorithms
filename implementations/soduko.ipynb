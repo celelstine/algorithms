{
 "cells": [
  {
   "cell_type": "markdown",
   "id": "f456eebe",
   "metadata": {},
   "source": [
    "### Soduko\n",
    "\n",
    "given a grid and a string, find the pattern to find the string such that we can only make 2 moves each time:\n",
    "    - to the item directly to the right\n",
    "    - to the item diretly beneath"
   ]
  },
  {
   "cell_type": "code",
   "execution_count": 1,
   "id": "88fe86b7",
   "metadata": {},
   "outputs": [
    {
     "name": "stdout",
     "output_type": "stream",
     "text": [
      "[(4, 1), (4, 2), (4, 3)]\n"
     ]
    }
   ],
   "source": [
    "def soduko(grid, word):\n",
    "    solutions = [\n",
    "        [(0,0)]\n",
    "    ]\n",
    "    num_row = len(grid) - 1\n",
    "    num_column = len(grid[0]) - 1\n",
    "    \n",
    "    \n",
    "    def get_next_node(node):\n",
    "        i, j = node\n",
    "        if j < num_column:\n",
    "            return (i, j + 1)\n",
    "        if j == num_column and i < num_row:\n",
    "            return (i + 1, 0)\n",
    "        return None\n",
    "    \n",
    "    def get_next_valid_nodes(node, letter):\n",
    "        i, j = node\n",
    "        valid_nodes = []\n",
    "        \n",
    "        if i < num_row and grid[i+1][j] == letter:\n",
    "                valid_nodes.append((i+1, j))\n",
    "        \n",
    "        if j < num_column and grid[i][j+1] == letter:\n",
    "                 valid_nodes.append((i, j+1))\n",
    "        return valid_nodes\n",
    "        \n",
    "    \n",
    "    while solutions != []:\n",
    "        cur_solution = solutions.pop()\n",
    "        i, j = cur_solution[-1]\n",
    "        last_letter = grid[i][j]\n",
    "        len_solution = len(cur_solution)\n",
    "        \n",
    "\n",
    "        if len_solution == len(word) and last_letter == word[len_solution - 1]:\n",
    "            return cur_solution\n",
    "        \n",
    "        if last_letter == word[len_solution - 1]:\n",
    "            valid_nodes = get_next_valid_nodes((i, j), word[len_solution])\n",
    "            \n",
    "            if valid_nodes == []:\n",
    "                next_node = get_next_node(cur_solution[0])\n",
    "                if next_node:\n",
    "                    solutions.append([next_node])\n",
    "\n",
    "            for move in valid_nodes:\n",
    "                next_solution = cur_solution.copy()\n",
    "                next_solution.append(move)\n",
    "                solutions.append(next_solution)\n",
    "                \n",
    "        else:\n",
    "            next_node = get_next_node(cur_solution[0])\n",
    "            \n",
    "            if next_node:\n",
    "                solutions.append([next_node])\n",
    "\n",
    "\n",
    "grid1 = [\n",
    "['c', 'c', 'x', 't', 'i', 'b'],\n",
    "['c', 'c', 'a', 't', 'n', 'i'],\n",
    "['a', 'c', 'n', 'n', 't', 't'],\n",
    "['t', 'c', 's', 'i', 'p', 't'],\n",
    "['a', 'o', 'o', 'o', 'a', 'a'],\n",
    "['o', 'a', 'a', 'a', 'o', 'o'],\n",
    "['k', 'a', 'i', 'c', 'k', 'i'],\n",
    "]\n",
    "word1 = \"catnip\"\n",
    "word2 = \"cccc\"\n",
    "word3 = \"s\"\n",
    "word4 = \"bit\"\n",
    "word5 = \"aoi\"\n",
    "word6 = \"ki\"\n",
    "word7 = \"aaa\"\n",
    "word8 = \"ooo\"\n",
    "    \n",
    "    \n",
    "print(soduko(grid1, word8)) "
   ]
  },
  {
   "cell_type": "code",
   "execution_count": null,
   "id": "e616d58f",
   "metadata": {},
   "outputs": [],
   "source": []
  }
 ],
 "metadata": {
  "kernelspec": {
   "display_name": "Python 3 (ipykernel)",
   "language": "python",
   "name": "python3"
  },
  "language_info": {
   "codemirror_mode": {
    "name": "ipython",
    "version": 3
   },
   "file_extension": ".py",
   "mimetype": "text/x-python",
   "name": "python",
   "nbconvert_exporter": "python",
   "pygments_lexer": "ipython3",
   "version": "3.9.5"
  }
 },
 "nbformat": 4,
 "nbformat_minor": 5
}
