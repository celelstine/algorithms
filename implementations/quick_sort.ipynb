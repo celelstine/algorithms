{
 "cells": [
  {
   "cell_type": "markdown",
   "id": "beec0062",
   "metadata": {},
   "source": [
    "## Quick Sort\n",
    "\n",
    "- pick a pivot select, p\n",
    "- sort the current array into left and right side,\n",
    "    - left should be elements less than p\n",
    "    - rigth should be elements higher than p\n",
    "- recursively sort left and right side\n"
   ]
  },
  {
   "cell_type": "code",
   "execution_count": 46,
   "id": "a917e5d0",
   "metadata": {},
   "outputs": [
    {
     "name": "stdout",
     "output_type": "stream",
     "text": [
      "[4, 3, 2, 5, 1, 7, 6, 9]\n",
      "[1, 3, 2, 4, 5, 7, 6, 9]\n",
      "[1, 2, 3, 4, 5, 7, 6, 9]\n",
      "[1, 2, 3, 4, 5, 7, 6, 9]\n",
      "[1, 2, 3, 4, 5, 7, 6, 9]\n",
      "[1, 2, 3, 4, 5, 7, 6, 9]\n",
      "[1, 2, 3, 4, 5, 6, 7, 9]\n",
      "[1, 2, 3, 4, 5, 6, 7, 9]\n"
     ]
    },
    {
     "data": {
      "text/plain": [
       "[1, 2, 3, 4, 5, 6, 7, 9]"
      ]
     },
     "execution_count": 46,
     "metadata": {},
     "output_type": "execute_result"
    }
   ],
   "source": [
    "def quick_sort(items, start=0, end=None):\n",
    "    _end_index = end if end else len(items)\n",
    "\n",
    "    def swap(index1, index2):\n",
    "        item1 = items[index1]\n",
    "        item2 = items[index2]\n",
    "        items[index1] = item2\n",
    "        items[index2] = item1\n",
    "    \n",
    "    def partition():\n",
    "        print(items)\n",
    "        pivot_index = start\n",
    "        pivot_element = items[pivot_index]\n",
    "        right_most_item_greater_index = pivot_index + 1\n",
    "        cur_index = pivot_index + 1\n",
    "        \n",
    "        while cur_index < _end_index:\n",
    "            cur_item = items[cur_index]\n",
    "            if cur_item < pivot_element:\n",
    "                swap(right_most_item_greater_index, cur_index)\n",
    "                right_most_item_greater_index = right_most_item_greater_index + 1\n",
    "                \n",
    "            cur_index = cur_index + 1\n",
    "        \n",
    "        swap(pivot_index, right_most_item_greater_index-1)\n",
    "        return pivot_index\n",
    "        \n",
    "    pivot_index = partition()\n",
    "    \n",
    "    if pivot_index - start >1:\n",
    "        quick_sort(items, start, pivot_index)\n",
    "    \n",
    "    if _end_index - pivot_index >1:\n",
    "        quick_sort(items, pivot_index+1, _end_index)\n",
    "    \n",
    "    \n",
    "    return items\n",
    "    \n",
    "\n",
    "quick_sort([4,3,2,5,1,7,6,9])"
   ]
  },
  {
   "cell_type": "code",
   "execution_count": null,
   "id": "0623bebf",
   "metadata": {},
   "outputs": [],
   "source": []
  }
 ],
 "metadata": {
  "kernelspec": {
   "display_name": "Python 3 (ipykernel)",
   "language": "python",
   "name": "python3"
  },
  "language_info": {
   "codemirror_mode": {
    "name": "ipython",
    "version": 3
   },
   "file_extension": ".py",
   "mimetype": "text/x-python",
   "name": "python",
   "nbconvert_exporter": "python",
   "pygments_lexer": "ipython3",
   "version": "3.9.6"
  }
 },
 "nbformat": 4,
 "nbformat_minor": 5
}
