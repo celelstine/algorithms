{
 "cells": [
  {
   "cell_type": "markdown",
   "id": "011c2d0c",
   "metadata": {},
   "source": [
    "### Has common ancestors\n",
    "\n",
    "given a list of parent and child, find if to persons have common ancestors"
   ]
  },
  {
   "cell_type": "code",
   "execution_count": 22,
   "id": "112aed0f",
   "metadata": {},
   "outputs": [
    {
     "name": "stdout",
     "output_type": "stream",
     "text": [
      "(3, 5) []\n",
      "(5, 7) []\n",
      "(5, 4) []\n",
      "(7, 10) []\n",
      "(7, 9) []\n",
      "(4, 8) []\n",
      "(8, 2) []\n",
      "(1, 6) []\n",
      "[(1, 6)] [(1, 6)]\n",
      "-- [3] [1, 4]\n",
      "(1, 6) []\n",
      "[(1, 6)] [(1, 6)]\n",
      "-- [3] [1, 4]\n"
     ]
    },
    {
     "data": {
      "text/plain": [
       "False"
      ]
     },
     "execution_count": 22,
     "metadata": {},
     "output_type": "execute_result"
    }
   ],
   "source": [
    "def has_common_ancestor(ancestor_pair, child1, child2):\n",
    "    child1_nodes_unchecked = ancestor_pair.copy()\n",
    "    child2_nodes_unchecked = ancestor_pair.copy()\n",
    "    \n",
    "    child1_ancestors = [child1]\n",
    "    child2_ancestors = [child2]\n",
    "    \n",
    "    num_child1_nodes_unchecked = len(child1_nodes_unchecked)\n",
    "    num_child2_nodes_unchecked = len(child2_nodes_unchecked)\n",
    "    \n",
    "    found_new_parents = True\n",
    "    \n",
    "    while found_new_parents:\n",
    "        found_new_parents = False\n",
    "        for i in range(max(num_child1_nodes_unchecked, num_child2_nodes_unchecked)):\n",
    "            if i < num_child1_nodes_unchecked:\n",
    "                if child1_nodes_unchecked[i][1] in child1_ancestors:\n",
    "                    if child1_nodes_unchecked[i][0] in child2_ancestors:\n",
    "                        return True\n",
    "                    found_new_parents = True\n",
    "                    child1_ancestors.append(child1_nodes_unchecked[i][0])\n",
    "\n",
    "                else:\n",
    "                    _child1_nodes_unchecked.append(child1_nodes_unchecked[i])\n",
    "\n",
    "            if i < num_child2_nodes_unchecked:\n",
    "                if child2_nodes_unchecked[i][1] in child2_ancestors:\n",
    "                    if child2_nodes_unchecked[i][0] in child1_ancestors:\n",
    "                        return True\n",
    "                    found_new_parents = True\n",
    "                    child2_ancestors.append(child2_nodes_unchecked[i][0])\n",
    "                else:\n",
    "                    print(child2_nodes_unchecked[i], _child2_nodes_unchecked)\n",
    "                    _child2_nodes_unchecked.append(child2_nodes_unchecked[i])\n",
    "        # reset\n",
    "        \n",
    "        child1_nodes_unchecked = _child1_nodes_unchecked.copy()\n",
    "        child2_nodes_unchecked = _child2_nodes_unchecked.copy()\n",
    "        num_child1_nodes_unchecked = len(child1_nodes_unchecked)\n",
    "        num_child2_nodes_unchecked = len(child2_nodes_unchecked)\n",
    "        \n",
    "        print(child1_nodes_unchecked, child2_nodes_unchecked)\n",
    "        print('--', child1_ancestors, child2_ancestors)\n",
    "\n",
    "    return False\n",
    " \n",
    "pairs = [\n",
    "    (3,5), (5,7), (5,4), (7,10), (7,9), (4,1), (4,8), (8,2), (1,6)\n",
    "]\n",
    "\n",
    "\n",
    "\n",
    "has_common_ancestor(pairs, 3, 1)"
   ]
  },
  {
   "cell_type": "code",
   "execution_count": null,
   "id": "e56086fd",
   "metadata": {},
   "outputs": [],
   "source": []
  },
  {
   "cell_type": "code",
   "execution_count": null,
   "id": "5da6fcee",
   "metadata": {},
   "outputs": [],
   "source": []
  }
 ],
 "metadata": {
  "kernelspec": {
   "display_name": "Python 3 (ipykernel)",
   "language": "python",
   "name": "python3"
  },
  "language_info": {
   "codemirror_mode": {
    "name": "ipython",
    "version": 3
   },
   "file_extension": ".py",
   "mimetype": "text/x-python",
   "name": "python",
   "nbconvert_exporter": "python",
   "pygments_lexer": "ipython3",
   "version": "3.9.6"
  }
 },
 "nbformat": 4,
 "nbformat_minor": 5
}
