{
 "cells": [
  {
   "cell_type": "markdown",
   "id": "011c2d0c",
   "metadata": {},
   "source": [
    "### Has common ancestors\n",
    "\n",
    "given a list of parent and child, find if to persons have common ancestors"
   ]
  },
  {
   "cell_type": "code",
   "execution_count": null,
   "id": "2b62395a",
   "metadata": {},
   "outputs": [],
   "source": [
    "def solution(ancestorPair, item1, item2):\n",
    "    item1_ancestors = []\n",
    "    item2_ancestors = []\n",
    "    \n",
    "    def get_ancestor(ancestorPair, existing_parent, item):\n",
    "        new_parent = []\n",
    "        for i in ancestorPair:\n",
    "            if i[1] == item and i[0] not in existing_parent:\n",
    "                new_parent.append(i[0])\n",
    "            else:\n",
    "                unchecked_nodes.append(i)\n",
    "        \n",
    "        return unchecked_nodes, new_parent\n",
    "    \n",
    "    unchecked_nodes1, new_parent1 = get_ancestor(ancestorPair, [],  item1)\n",
    "    unchecked_nodes2, new_parent2 = get_ancestor(ancestorPair, [], item2)\n",
    "    \n",
    "    item1_ancestors.extend(new_parent1)\n",
    "    item2_ancestors.extend(new_parent2)\n",
    "    \n",
    "    \n",
    "    \n",
    "def get_ancestor(ancestorPair, existing_parent=[], item):\n",
    "    new_parent = []\n",
    "    for i in ancestorPair:\n",
    "        if i[1] == item and i[0] not in existing_parent:\n",
    "            new_parent.append(i[0])\n",
    "        else:\n",
    "            unchecked_nodes.append(i)\n",
    "\n",
    "    return unchecked_nodes, new_parent\n",
    "        "
   ]
  }
 ],
 "metadata": {
  "kernelspec": {
   "display_name": "Python 3 (ipykernel)",
   "language": "python",
   "name": "python3"
  },
  "language_info": {
   "codemirror_mode": {
    "name": "ipython",
    "version": 3
   },
   "file_extension": ".py",
   "mimetype": "text/x-python",
   "name": "python",
   "nbconvert_exporter": "python",
   "pygments_lexer": "ipython3",
   "version": "3.9.5"
  }
 },
 "nbformat": 4,
 "nbformat_minor": 5
}
